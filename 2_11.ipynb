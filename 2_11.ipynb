{
  "nbformat": 4,
  "nbformat_minor": 0,
  "metadata": {
    "colab": {
      "provenance": [],
      "authorship_tag": "ABX9TyMeIQakwjPgAzHUzKvbnhbK",
      "include_colab_link": true
    },
    "kernelspec": {
      "name": "python3",
      "display_name": "Python 3"
    },
    "language_info": {
      "name": "python"
    }
  },
  "cells": [
    {
      "cell_type": "markdown",
      "metadata": {
        "id": "view-in-github",
        "colab_type": "text"
      },
      "source": [
        "<a href=\"https://colab.research.google.com/github/NguyenHan243/fuzzylogic/blob/main/2_11.ipynb\" target=\"_parent\"><img src=\"https://colab.research.google.com/assets/colab-badge.svg\" alt=\"Open In Colab\"/></a>"
      ]
    },
    {
      "cell_type": "code",
      "execution_count": null,
      "metadata": {
        "colab": {
          "base_uri": "https://localhost:8080/"
        },
        "id": "fv-TTNpsFYRM",
        "outputId": "630a826f-c08b-4843-c715-1d5696ad5262"
      },
      "outputs": [
        {
          "output_type": "stream",
          "name": "stdout",
          "text": [
            "Collecting scikit-fuzzy\n",
            "  Downloading scikit_fuzzy-0.5.0-py2.py3-none-any.whl.metadata (2.6 kB)\n",
            "Downloading scikit_fuzzy-0.5.0-py2.py3-none-any.whl (920 kB)\n",
            "\u001b[2K   \u001b[90m━━━━━━━━━━━━━━━━━━━━━━━━━━━━━━━━━━━━━━━━\u001b[0m \u001b[32m920.8/920.8 kB\u001b[0m \u001b[31m9.7 MB/s\u001b[0m eta \u001b[36m0:00:00\u001b[0m\n",
            "\u001b[?25hInstalling collected packages: scikit-fuzzy\n",
            "Successfully installed scikit-fuzzy-0.5.0\n"
          ]
        }
      ],
      "source": [
        "pip install scikit-fuzzy"
      ]
    },
    {
      "cell_type": "code",
      "source": [
        "import numpy as np\n",
        "import skfuzzy as fuzz\n",
        "from skfuzzy import control as ctrl\n",
        "bridge = ctrl.Antecedent(np.arange(0,10.1,0.1),'bridge')\n",
        "price = ctrl.Antecedent(np.arange(0,10.1,0.1),'price')\n",
        "product= ctrl.Antecedent(np.arange(0,10.1,0.1),'product')\n",
        "season=ctrl.Antecedent(np.arange(0,10.1,0.1),'season')\n",
        "stock=ctrl.Antecedent(np.arange(0,10.1,0.1),'stock')\n",
        "final=ctrl.Consequent(np.arange(0,10.1,0.1),'final')\n",
        "\n",
        "bridge['low']=fuzz.trimf(bridge.universe,[0,2,4])\n",
        "bridge['medium']=fuzz.trimf(bridge.universe,[4,5,6])\n",
        "bridge['high']=fuzz.trimf(bridge.universe,[6,8,10])\n",
        "\n",
        "price['low']=fuzz.trimf(price.universe,[0,2,4])\n",
        "price['medium']=fuzz.trimf(price.universe,[4,5,6])\n",
        "price['high']=fuzz.trimf(price.universe,[6,8,10])\n",
        "\n",
        "product['low']=fuzz.trimf(product.universe,[0,2,4])\n",
        "product['medium']=fuzz.trimf(product.universe,[4,5,6])\n",
        "product['high']=fuzz.trimf(product.universe,[6,8,10])\n",
        "\n",
        "season['low']=fuzz.trimf(season.universe,[0,2,4])\n",
        "season['normal']=fuzz.trimf(season.universe,[4,5,6])\n",
        "season['high']=fuzz.trimf(season.universe,[6,8,10])\n",
        "\n",
        "stock['low']=fuzz.trimf(stock.universe,[0,2,4])\n",
        "stock['medium']=fuzz.trimf(stock.universe,[4,5,6])\n",
        "stock['high']=fuzz.trimf(stock.universe,[6,8,10])\n",
        "\n",
        "final['verylow']=fuzz.trimf(final.universe,[0,0,2])\n",
        "final['low']=fuzz.trimf(final.universe,[2,3,4])\n",
        "final['medium']=fuzz.trimf(final.universe,[4,5,6])\n",
        "final['high']=fuzz.trimf(final.universe,[6,7,8])\n",
        "final['veryhigh']=fuzz.trimf(final.universe,[8,10,10])"
      ],
      "metadata": {
        "id": "PQsBpWe_GR1b"
      },
      "execution_count": null,
      "outputs": []
    },
    {
      "cell_type": "code",
      "source": [
        "rule1=ctrl.Rule(bridge['high']&price['high'],stock['low'])\n",
        "rule2=ctrl.Rule(bridge['high']&season['high'],stock['low'],final['veryhigh'])\n",
        "rule3=ctrl.Rule(bridge['medium']&product['high']&stock['low'],final['veryhigh'])\n",
        "rule4=ctrl.Rule(bridge['high']&price['medium']&stock['medium'],final['high'])\n",
        "rule5=ctrl.Rule(bridge['medium']&price['high']&stock['low'],final['high'])\n",
        "rule6=ctrl.Rule(bridge['medium']&season['high']&stock['medium'],final['high'])\n",
        "rule7=ctrl.Rule(bridge['medium']&price['medium']&stock['medium'],final['medium'])\n",
        "rule8=ctrl.Rule(bridge['medium']&price['high']&stock['medium'],final['medium'])\n",
        "rule9=ctrl.Rule(bridge['low']&price['high']&stock['medium'],final['medium'])\n",
        "rule10=ctrl.Rule(bridge['medium']&product['medium']&stock['medium'],final['medium'])\n",
        "rule11=ctrl.Rule(bridge['low']&price['low']&stock['high'],final['low'])\n",
        "rule12=ctrl.Rule(bridge['medium']&product['medium']&stock['high'],final['low'])\n",
        "rule13=ctrl.Rule(bridge['low']&season['low']&stock['high'],final['low'])\n",
        "rule14=ctrl.Rule(bridge['low']&price['low']&stock['high'],final['verylow'])"
      ],
      "metadata": {
        "id": "SdwVud7IHlhb"
      },
      "execution_count": null,
      "outputs": []
    }
  ]
}