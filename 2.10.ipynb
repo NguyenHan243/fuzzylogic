{
  "nbformat": 4,
  "nbformat_minor": 0,
  "metadata": {
    "colab": {
      "provenance": [],
      "authorship_tag": "ABX9TyPXankQLe4f43y0T2VnVXvI",
      "include_colab_link": true
    },
    "kernelspec": {
      "name": "python3",
      "display_name": "Python 3"
    },
    "language_info": {
      "name": "python"
    }
  },
  "cells": [
    {
      "cell_type": "markdown",
      "metadata": {
        "id": "view-in-github",
        "colab_type": "text"
      },
      "source": [
        "<a href=\"https://colab.research.google.com/github/NguyenHan243/fuzzylogic/blob/main/2.10.ipynb\" target=\"_parent\"><img src=\"https://colab.research.google.com/assets/colab-badge.svg\" alt=\"Open In Colab\"/></a>"
      ]
    },
    {
      "cell_type": "code",
      "execution_count": null,
      "metadata": {
        "colab": {
          "base_uri": "https://localhost:8080/"
        },
        "id": "Q18XFyND2P8B",
        "outputId": "a34dd44d-6213-4ab5-ebdf-219fbd063e17"
      },
      "outputs": [
        {
          "output_type": "stream",
          "name": "stdout",
          "text": [
            "Collecting scikit-fuzzy\n",
            "  Downloading scikit_fuzzy-0.5.0-py2.py3-none-any.whl.metadata (2.6 kB)\n",
            "Downloading scikit_fuzzy-0.5.0-py2.py3-none-any.whl (920 kB)\n",
            "\u001b[?25l   \u001b[90m━━━━━━━━━━━━━━━━━━━━━━━━━━━━━━━━━━━━━━━━\u001b[0m \u001b[32m0.0/920.8 kB\u001b[0m \u001b[31m?\u001b[0m eta \u001b[36m-:--:--\u001b[0m\r\u001b[2K   \u001b[91m━━━━━━━━━━━━━━━━━━━━━━━━\u001b[0m\u001b[90m╺\u001b[0m\u001b[90m━━━━━━━━━━━━━━━\u001b[0m \u001b[32m553.0/920.8 kB\u001b[0m \u001b[31m16.5 MB/s\u001b[0m eta \u001b[36m0:00:01\u001b[0m\r\u001b[2K   \u001b[90m━━━━━━━━━━━━━━━━━━━━━━━━━━━━━━━━━━━━━━━━\u001b[0m \u001b[32m920.8/920.8 kB\u001b[0m \u001b[31m16.2 MB/s\u001b[0m eta \u001b[36m0:00:00\u001b[0m\n",
            "\u001b[?25hInstalling collected packages: scikit-fuzzy\n",
            "Successfully installed scikit-fuzzy-0.5.0\n"
          ]
        }
      ],
      "source": [
        "pip install scikit-fuzzy"
      ]
    },
    {
      "cell_type": "code",
      "source": [
        "import numpy as np\n",
        "import skfuzzy as fuzz\n",
        "from skfuzzy import control as ctrl\n",
        "traffic = ctrl.Antecedent(np.arange(0,10.1,1),'traffic')\n",
        "distance = ctrl.Antecedent(np.arange(0,10.1,1),'distance')\n",
        "weather= ctrl.Antecedent(np.arange(0,10.1,1),'weather')\n",
        "prepare=ctrl.Antecedent(np.arange(0,30.1,1),'prepare')\n",
        "fatigue=ctrl.Antecedent(np.arange(0,10.1,1),'fatigue')\n",
        "deliver=ctrl.Consequent(np.arange(0,30.1,1),'deliver')\n",
        "bonus=ctrl.Consequent(np.arange(0,100.1,1),'bonus')\n",
        "rate=ctrl.Consequent(np.arange(1,5.1,1),'rate')\n",
        "\n",
        "traffic['low']=fuzz.trimf(traffic.universe,[0,0,4])\n",
        "traffic['medium']=fuzz.trimf(traffic.universe,[3,5,7])\n",
        "traffic['high']=fuzz.trimf(traffic.universe,[6,10,10])\n",
        "\n",
        "distance['short']=fuzz.trimf(distance.universe,[0,0,3])\n",
        "distance['medium']=fuzz.trimf(distance.universe,[3,5,8])\n",
        "distance['long']=fuzz.trapmf(distance.universe,[8,9,10,10])\n",
        "\n",
        "weather['clear']=fuzz.trimf(weather.universe,[0,3,5])\n",
        "weather['rain']=fuzz.trimf(weather.universe,[5,7,8])\n",
        "weather['storm']=fuzz.trimf(weather.universe,[8,9,10])\n",
        "\n",
        "prepare['fast']=fuzz.trimf(prepare.universe,[0,0,5])\n",
        "prepare['medium']=fuzz.trimf(prepare.universe,[5,10,15])\n",
        "prepare['slow']=fuzz.trimf(prepare.universe,[15,23,30])\n",
        "\n",
        "fatigue['low']=fuzz.trimf(fatigue.universe,[0,0,4])\n",
        "fatigue['medium']=fuzz.trimf(fatigue.universe,[3,5,7])\n",
        "fatigue['high']=fuzz.trimf(fatigue.universe,[6,10,10])\n",
        "\n",
        "deliver['short']=fuzz.trimf(deliver.universe,[0,0,10])\n",
        "deliver['medium']=fuzz.trimf(deliver.universe,[10,17,25])\n",
        "deliver['long']=fuzz.trimf(deliver.universe,[25,28,30])\n",
        "\n",
        "bonus['low']=fuzz.trimf(bonus.universe,[0,0,40])\n",
        "bonus['medium']=fuzz.trimf(bonus.universe,[40,50,60])\n",
        "bonus['high']=fuzz.trimf(bonus.universe,[60,80,100])\n",
        "\n",
        "rate['poor']=fuzz.trimf(rate.universe,[1,1,2])\n",
        "rate['average']=fuzz.trimf(rate.universe,[2,3,4])\n",
        "rate['excellent']=fuzz.trimf(rate.universe,[4,5,5])"
      ],
      "metadata": {
        "id": "qZ7pUXUb3BES"
      },
      "execution_count": null,
      "outputs": []
    },
    {
      "cell_type": "code",
      "source": [
        "rule1=ctrl.Rule(traffic['low']&distance['short'],deliver['short'])\n",
        "rule2=ctrl.Rule(traffic['medium']&distance['medium'],deliver['medium'])\n",
        "rule3=ctrl.Rule(traffic['high']&distance['long'],deliver['long'])\n",
        "rule4=ctrl.Rule(weather['clear'],bonus['low'])\n",
        "rule5=ctrl.Rule(weather['rain'],bonus['medium'])\n",
        "rule6=ctrl.Rule(weather['storm'],bonus['high'])\n",
        "rule7=ctrl.Rule(prepare['fast']&traffic['low'],deliver['short'])\n",
        "rule8=ctrl.Rule(prepare['medium']&traffic['medium'],deliver['medium'])\n",
        "rule9=ctrl.Rule(prepare['slow']&traffic['high'],deliver['long'])\n",
        "rule10=ctrl.Rule(fatigue['low'],rate['excellent'])\n",
        "rule11=ctrl.Rule(fatigue['medium'],rate['average'])\n",
        "rule12=ctrl.Rule(fatigue['high'],rate['poor'])\n",
        "rule13=ctrl.Rule(distance['long']&weather['storm']&traffic['high'],deliver['long'],bonus['high'])\n",
        "rule14=ctrl.Rule(distance['short']&weather['clear']&traffic['low'],deliver['short'],bonus['low'])\n",
        "rule15=ctrl.Rule(fatigue['high']&traffic['high'],deliver['long'],rate['poor'])"
      ],
      "metadata": {
        "id": "tnestR4CAnQa"
      },
      "execution_count": null,
      "outputs": []
    },
    {
      "cell_type": "code",
      "source": [
        "deliver_ctrl = ctrl.ControlSystem([rule1, rule2, rule3, rule4, rule5,rule6,rule7,rule8,rule9,rule10,rule11,rule12,rule13,rule14,rule15])\n",
        "deliver_sim = ctrl.ControlSystemSimulation(deliver_ctrl)\n",
        "bonus_ctrl = ctrl.ControlSystem([rule1, rule2, rule3, rule4, rule5,rule6,rule7,rule8,rule9,rule10,rule11,rule12,rule13,rule14,rule15])\n",
        "bonus_sim = ctrl.ControlSystemSimulation(bonus_ctrl)\n",
        "rate_ctrl = ctrl.ControlSystem([rule1, rule2, rule3, rule4, rule5,rule6,rule7,rule8,rule9,rule10,rule11,rule12,rule13,rule14,rule15])\n",
        "rate_sim = ctrl.ControlSystemSimulation(rate_ctrl)\n",
        "\n",
        "deliver_sim.input['traffic'] = 5\n",
        "deliver_sim.input['distance'] = 5\n",
        "deliver_sim.input['weather'] = 5\n",
        "deliver_sim.input['prepare'] = 15\n",
        "deliver_sim.input['fatigue'] = 5\n",
        "\n",
        "# Tính toán kết quả\n",
        "deliver_sim.compute()\n",
        "print (deliver_sim.output['deliver'])\n"
      ],
      "metadata": {
        "id": "CKDQqsZHBJ9l",
        "colab": {
          "base_uri": "https://localhost:8080/"
        },
        "outputId": "9613f6dd-181e-4099-8ac0-2fa25eb96c6c"
      },
      "execution_count": null,
      "outputs": [
        {
          "output_type": "stream",
          "name": "stdout",
          "text": [
            "17.33333333333333\n"
          ]
        }
      ]
    }
  ]
}