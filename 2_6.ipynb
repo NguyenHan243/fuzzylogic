{
  "nbformat": 4,
  "nbformat_minor": 0,
  "metadata": {
    "colab": {
      "provenance": [],
      "include_colab_link": true
    },
    "kernelspec": {
      "name": "python3",
      "display_name": "Python 3"
    },
    "language_info": {
      "name": "python"
    }
  },
  "cells": [
    {
      "cell_type": "markdown",
      "metadata": {
        "id": "view-in-github",
        "colab_type": "text"
      },
      "source": [
        "<a href=\"https://colab.research.google.com/github/NguyenHan243/fuzzylogic/blob/main/2_6.ipynb\" target=\"_parent\"><img src=\"https://colab.research.google.com/assets/colab-badge.svg\" alt=\"Open In Colab\"/></a>"
      ]
    },
    {
      "cell_type": "code",
      "execution_count": 2,
      "metadata": {
        "colab": {
          "base_uri": "https://localhost:8080/"
        },
        "id": "8Np5nqLICUJi",
        "outputId": "56945149-bfc2-4b55-b809-88675800c300"
      },
      "outputs": [
        {
          "output_type": "stream",
          "name": "stdout",
          "text": [
            "Collecting scikit-fuzzy\n",
            "  Downloading scikit_fuzzy-0.5.0-py2.py3-none-any.whl.metadata (2.6 kB)\n",
            "Downloading scikit_fuzzy-0.5.0-py2.py3-none-any.whl (920 kB)\n",
            "\u001b[?25l   \u001b[90m━━━━━━━━━━━━━━━━━━━━━━━━━━━━━━━━━━━━━━━━\u001b[0m \u001b[32m0.0/920.8 kB\u001b[0m \u001b[31m?\u001b[0m eta \u001b[36m-:--:--\u001b[0m\r\u001b[2K   \u001b[90m━━━━━━━━━━━━━━━━━━━━━━━━━━━━━━━━━━━━━━━━\u001b[0m \u001b[32m920.8/920.8 kB\u001b[0m \u001b[31m35.8 MB/s\u001b[0m eta \u001b[36m0:00:00\u001b[0m\n",
            "\u001b[?25hInstalling collected packages: scikit-fuzzy\n",
            "Successfully installed scikit-fuzzy-0.5.0\n"
          ]
        }
      ],
      "source": [
        "pip install scikit-fuzzy"
      ]
    },
    {
      "cell_type": "code",
      "source": [
        "import numpy as np\n",
        "import skfuzzy as fuzz\n",
        "from skfuzzy import control as ctrl\n",
        "\n",
        "weight = ctrl.Antecedent(np.arange(0, 1001, 1), 'weight')\n",
        "type = ctrl.Antecedent(np.arange(0, 3.1, 0.1), 'type')\n",
        "temp = ctrl.Antecedent(np.arange(0, 61, 1), 'temp')\n",
        "time = ctrl.Consequent(np.arange(0, 21, 1), 'time')\n",
        "power = ctrl.Consequent(np.arange(0, 101, 1), 'power')\n",
        "\n",
        "weight['L'] = fuzz.trimf(weight.universe, [0, 200, 400])\n",
        "weight['M'] = fuzz.trimf(weight.universe, [300, 500, 600])\n",
        "weight['H'] = fuzz.trimf(weight.universe, [500, 900, 1000])\n",
        "\n",
        "type['S'] = fuzz.trimf(type.universe, [0, 0.5, 1])\n",
        "type['M'] = fuzz.trimf(type.universe, [0.8, 1.5, 2.2])\n",
        "type['H'] = fuzz.trimf(type.universe, [1.8, 2.5, 3])\n",
        "\n",
        "temp['C'] = fuzz.trimf(temp.universe, [0, 5, 10])\n",
        "temp['W'] = fuzz.trimf(temp.universe, [20, 25, 30])\n",
        "temp['H'] = fuzz.trimf(temp.universe, [40, 50, 60])\n",
        "\n",
        "time['S'] = fuzz.trimf(time.universe, [0, 7, 12])\n",
        "time['M'] = fuzz.trimf(time.universe, [5, 10, 12])\n",
        "time['L'] = fuzz.trimf(time.universe, [10, 18, 20])\n",
        "\n",
        "power['L'] = fuzz.trimf(power.universe, [0, 30, 40])\n",
        "power['M'] = fuzz.trimf(power.universe, [30, 60, 70])\n",
        "power['H'] = fuzz.trimf(power.universe, [60, 90, 100])\n"
      ],
      "metadata": {
        "id": "Ug9wPpu9CWHt"
      },
      "execution_count": 3,
      "outputs": []
    },
    {
      "cell_type": "code",
      "source": [
        "rule1 = ctrl.Rule(weight['L'], time['S'])\n",
        "rule2 = ctrl.Rule(weight['M'], time['M'])\n",
        "rule3 = ctrl.Rule(weight['H'], time['L'])\n",
        "\n",
        "rule4 = ctrl.Rule(type['S'], power['L'])\n",
        "rule5 = ctrl.Rule(type['M'], power['M'])\n",
        "rule6 = ctrl.Rule(type['H'], power['H'])\n",
        "\n",
        "rule7 = ctrl.Rule(temp['C'], time['L'])\n",
        "rule8 = ctrl.Rule(temp['W'], time['M'])\n",
        "rule9 = ctrl.Rule(temp['H'], time['S'])\n",
        "\n",
        "rule10 = ctrl.Rule(weight['H'] & type['H'] & temp['C'], [time['L'], power['H']])\n",
        "rule11 = ctrl.Rule(weight['M'] & type['S'] & temp['W'], [time['M'], power['L']])\n",
        "rule12 = ctrl.Rule(weight['L'] & type['M'] & temp['H'], [time['S'], power['M']])"
      ],
      "metadata": {
        "id": "ntfvHIpfKdpY"
      },
      "execution_count": 4,
      "outputs": []
    },
    {
      "cell_type": "code",
      "source": [
        "cook_ctrl = ctrl.ControlSystem([rule1, rule2, rule3, rule4, rule5, rule6, rule7, rule8, rule9, rule10, rule11, rule12])\n",
        "cook_sim = ctrl.ControlSystemSimulation(cook_ctrl)\n",
        "cook_sim.input['weight'] = 600\n",
        "cook_sim.input['type'] = 2\n",
        "cook_sim.input['temp'] = 10\n",
        "cook_sim.compute()\n",
        "print(\"cooking time:\",cook_sim.output['time'])\n",
        "print(\"Power:\", cook_sim.output['power'])"
      ],
      "metadata": {
        "colab": {
          "base_uri": "https://localhost:8080/"
        },
        "id": "t3_6Lac6KjiR",
        "outputId": "40b6b84d-431a-403e-d6e1-e7c6e7cefa71"
      },
      "execution_count": 6,
      "outputs": [
        {
          "output_type": "stream",
          "name": "stdout",
          "text": [
            "cooking time: 15.357142857142854\n",
            "Power: 66.38511772388716\n"
          ]
        }
      ]
    }
  ]
}