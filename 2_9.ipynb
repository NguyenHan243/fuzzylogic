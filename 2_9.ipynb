{
  "nbformat": 4,
  "nbformat_minor": 0,
  "metadata": {
    "colab": {
      "provenance": [],
      "authorship_tag": "ABX9TyOm+5TF+fGO9pZmxWom2S3z",
      "include_colab_link": true
    },
    "kernelspec": {
      "name": "python3",
      "display_name": "Python 3"
    },
    "language_info": {
      "name": "python"
    }
  },
  "cells": [
    {
      "cell_type": "markdown",
      "metadata": {
        "id": "view-in-github",
        "colab_type": "text"
      },
      "source": [
        "<a href=\"https://colab.research.google.com/github/NguyenHan243/fuzzylogic/blob/main/2_9.ipynb\" target=\"_parent\"><img src=\"https://colab.research.google.com/assets/colab-badge.svg\" alt=\"Open In Colab\"/></a>"
      ]
    },
    {
      "cell_type": "code",
      "execution_count": 11,
      "metadata": {
        "colab": {
          "base_uri": "https://localhost:8080/"
        },
        "id": "skoXOBKfefkD",
        "outputId": "68972009-8772-4943-c038-27d611f22702"
      },
      "outputs": [
        {
          "output_type": "stream",
          "name": "stdout",
          "text": [
            "Requirement already satisfied: scikit-fuzzy in /usr/local/lib/python3.11/dist-packages (0.5.0)\n"
          ]
        }
      ],
      "source": [
        "pip install scikit-fuzzy"
      ]
    },
    {
      "cell_type": "code",
      "source": [
        "import numpy as np\n",
        "import skfuzzy as fuzz\n",
        "from skfuzzy import control as ctrl\n",
        "score = ctrl.Antecedent(np.arange(0,1.1,0.1),'score')\n",
        "emotion = ctrl.Antecedent(np.arange(0,10.1,0.1),'emotion')\n",
        "pos_words= ctrl.Antecedent(np.arange(0,10.1,0.1),'pos_words')\n",
        "neg_words=ctrl.Antecedent(np.arange(0,10.1,0.1),'neg_words')\n",
        "review=ctrl.Consequent(np.arange(0,10.1,0.1),'review')\n",
        "\n",
        "score['negative']=fuzz.trimf(score.universe,[0,0.15,0.3])\n",
        "score['neutral']=fuzz.trimf(score.universe,[0.3,0.5,0.7])\n",
        "score['positive']=fuzz.trimf(score.universe,[0.7,0.85,1])\n",
        "\n",
        "emotion['low']=fuzz.trimf(emotion.universe,[0,0.2,0.4])\n",
        "emotion['medium']=fuzz.trimf(emotion.universe,[0.4,0.6,0.8])\n",
        "emotion['high']=fuzz.trimf(emotion.universe,[0.8,1,1])\n",
        "\n",
        "pos_words['few']=fuzz.trimf(pos_words.universe,[0,1,2])\n",
        "pos_words['some']=fuzz.trimf(pos_words.universe,[3,4,5])\n",
        "pos_words['many']=fuzz.trimf(pos_words.universe,[6,8,10])\n",
        "\n",
        "neg_words['few']=fuzz.trimf(neg_words.universe,[0,1,2])\n",
        "neg_words['some']=fuzz.trimf(neg_words.universe,[3,4,5])\n",
        "neg_words['many']=fuzz.trimf(neg_words.universe,[6,8,10])\n",
        "\n",
        "review['negative']=fuzz.trimf(review.universe,[0,2,4])\n",
        "review['neutral']=fuzz.trimf(review.universe,[4,5,6])\n",
        "review['positive']=fuzz.trimf(review.universe,[6,8,10])"
      ],
      "metadata": {
        "id": "wH0ZxbpDpLGs"
      },
      "execution_count": 13,
      "outputs": []
    },
    {
      "cell_type": "code",
      "source": [
        "rule1=ctrl.Rule(score['negative']&emotion['high'],review['negative'])\n",
        "rule2=ctrl.Rule(score['negative']&emotion['low'],review['neutral'])\n",
        "rule3=ctrl.Rule(score['neutral']&emotion['medium'],review['neutral'])\n",
        "rule4=ctrl.Rule(score['positive']&emotion['high'],review['positive'])\n",
        "rule5=ctrl.Rule(pos_words['many']&neg_words['few'],review['positive'])\n",
        "rule6=ctrl.Rule(pos_words['few']&neg_words['many'],review['negative'])\n",
        "rule7=ctrl.Rule(pos_words['some']&neg_words['some'],review['neutral'])\n",
        "rule8=ctrl.Rule(score['negative']&neg_words['many']&emotion['high'],review['negative'])\n",
        "rule9=ctrl.Rule(score['neutral']&pos_words['some']&emotion['medium'],review['neutral'])\n",
        "rule10=ctrl.Rule(score['positive']&pos_words['many']&emotion['high'],review['positive'])"
      ],
      "metadata": {
        "id": "-VuXdCvKupAl"
      },
      "execution_count": 14,
      "outputs": []
    },
    {
      "cell_type": "code",
      "source": [
        "review_ctrl = ctrl.ControlSystem([rule1, rule2, rule3, rule4, rule5,rule6,rule7,rule8,rule9,rule10])\n",
        "review_sim = ctrl.ControlSystemSimulation(review_ctrl)\n",
        "\n",
        "review_sim.input['score'] = 0.7\n",
        "review_sim.input['emotion'] = 3\n",
        "review_sim.input['pos_words'] = 5\n",
        "review_sim.input['neg_words'] = 4\n",
        "\n",
        "review_sim.compute()\n",
        "print (review_sim.output['review'])"
      ],
      "metadata": {
        "colab": {
          "base_uri": "https://localhost:8080/",
          "height": 182
        },
        "id": "DCNim0Gpfdy9",
        "outputId": "0e661763-b95f-45bc-9318-2d38a332ebdd"
      },
      "execution_count": 16,
      "outputs": [
        {
          "output_type": "error",
          "ename": "KeyError",
          "evalue": "'review'",
          "traceback": [
            "\u001b[0;31m---------------------------------------------------------------------------\u001b[0m",
            "\u001b[0;31mKeyError\u001b[0m                                  Traceback (most recent call last)",
            "\u001b[0;32m<ipython-input-16-c4f5a26e5921>\u001b[0m in \u001b[0;36m<cell line: 0>\u001b[0;34m()\u001b[0m\n\u001b[1;32m      8\u001b[0m \u001b[0;34m\u001b[0m\u001b[0m\n\u001b[1;32m      9\u001b[0m \u001b[0mreview_sim\u001b[0m\u001b[0;34m.\u001b[0m\u001b[0mcompute\u001b[0m\u001b[0;34m(\u001b[0m\u001b[0;34m)\u001b[0m\u001b[0;34m\u001b[0m\u001b[0;34m\u001b[0m\u001b[0m\n\u001b[0;32m---> 10\u001b[0;31m \u001b[0mprint\u001b[0m \u001b[0;34m(\u001b[0m\u001b[0mreview_sim\u001b[0m\u001b[0;34m.\u001b[0m\u001b[0moutput\u001b[0m\u001b[0;34m[\u001b[0m\u001b[0;34m'review'\u001b[0m\u001b[0;34m]\u001b[0m\u001b[0;34m)\u001b[0m\u001b[0;34m\u001b[0m\u001b[0;34m\u001b[0m\u001b[0m\n\u001b[0m",
            "\u001b[0;31mKeyError\u001b[0m: 'review'"
          ]
        }
      ]
    }
  ]
}