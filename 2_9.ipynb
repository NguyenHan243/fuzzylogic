{
  "nbformat": 4,
  "nbformat_minor": 0,
  "metadata": {
    "colab": {
      "provenance": [],
      "authorship_tag": "ABX9TyNHlzYka1llNKTbabYhCqP7",
      "include_colab_link": true
    },
    "kernelspec": {
      "name": "python3",
      "display_name": "Python 3"
    },
    "language_info": {
      "name": "python"
    }
  },
  "cells": [
    {
      "cell_type": "markdown",
      "metadata": {
        "id": "view-in-github",
        "colab_type": "text"
      },
      "source": [
        "<a href=\"https://colab.research.google.com/github/NguyenHan243/fuzzylogic/blob/main/2_9.ipynb\" target=\"_parent\"><img src=\"https://colab.research.google.com/assets/colab-badge.svg\" alt=\"Open In Colab\"/></a>"
      ]
    },
    {
      "cell_type": "code",
      "execution_count": 2,
      "metadata": {
        "colab": {
          "base_uri": "https://localhost:8080/"
        },
        "id": "skoXOBKfefkD",
        "outputId": "066a2987-0525-4658-929e-6ad9451dec72"
      },
      "outputs": [
        {
          "output_type": "stream",
          "name": "stdout",
          "text": [
            "Collecting scikit-fuzzy\n",
            "  Downloading scikit_fuzzy-0.5.0-py2.py3-none-any.whl.metadata (2.6 kB)\n",
            "Downloading scikit_fuzzy-0.5.0-py2.py3-none-any.whl (920 kB)\n",
            "\u001b[2K   \u001b[90m━━━━━━━━━━━━━━━━━━━━━━━━━━━━━━━━━━━━━━━━\u001b[0m \u001b[32m920.8/920.8 kB\u001b[0m \u001b[31m8.8 MB/s\u001b[0m eta \u001b[36m0:00:00\u001b[0m\n",
            "\u001b[?25hInstalling collected packages: scikit-fuzzy\n",
            "Successfully installed scikit-fuzzy-0.5.0\n"
          ]
        }
      ],
      "source": [
        "pip install scikit-fuzzy"
      ]
    },
    {
      "cell_type": "code",
      "source": [
        "import numpy as np\n",
        "import skfuzzy as fuzz\n",
        "from skfuzzy import control as ctrl\n",
        "score = ctrl.Antecedent(np.arange(0,1.1,0.1),'score')\n",
        "emotion = ctrl.Antecedent(np.arange(0,10.1,0.1),'emotion')\n",
        "pos_words= ctrl.Antecedent(np.arange(0,10.1,0.1),'pos_words')\n",
        "neg_words=ctrl.Antecedent(np.arange(0,10.1,0.1),'neg_words')\n",
        "final=ctrl.Consequent(np.arange(0,10.1,0.1),'final')\n",
        "\n",
        "score['negative']=fuzz.trimf(score.universe,[0,0.15,0.3])\n",
        "score['neutral']=fuzz.trimf(score.universe,[0.3,0.5,0.7])\n",
        "score['positive']=fuzz.trimf(score.universe,[0.7,0.85,1])\n",
        "\n",
        "emotion['low']=fuzz.trimf(emotion.universe,[0,0.2,0.4])\n",
        "emotion['medium']=fuzz.trimf(emotion.universe,[0.4,0.6,0.8])\n",
        "emotion['high']=fuzz.trimf(emotion.universe,[0.8,1,1])\n",
        "\n",
        "pos_words['few']=fuzz.trimf(pos_words.universe,[0,1,2])\n",
        "pos_words['some']=fuzz.trimf(pos_words.universe,[3,4,5])\n",
        "pos_words['many']=fuzz.trimf(pos_words.universe,[6,8,10])\n",
        "\n",
        "neg_words['few']=fuzz.trimf(neg_words.universe,[0,1,2])\n",
        "neg_words['some']=fuzz.trimf(neg_words.universe,[3,4,5])\n",
        "neg_words['many']=fuzz.trimf(neg_words.universe,[6,8,10])\n",
        "\n",
        "final['negative']=fuzz.trimf(final.universe,[0,2,4])\n",
        "final['neutral']=fuzz.trimf(final.universe,[4,5,6])\n",
        "final['positive']=fuzz.trimf(final.universe,[6,8,10])"
      ],
      "metadata": {
        "id": "wH0ZxbpDpLGs"
      },
      "execution_count": 7,
      "outputs": []
    },
    {
      "cell_type": "code",
      "source": [
        "rule1=ctrl.Rule(score['negative']&emotion['high'],final['negative'])\n",
        "rule2=ctrl.Rule(score['negative']&emotion['low'],final['neutral'])\n",
        "rule3=ctrl.Rule(score['neutral']&emotion['medium'],final['neutral'])\n",
        "rule4=ctrl.Rule(score['positive']&emotion['high'],final['positive'])\n",
        "rule5=ctrl.Rule(pos_words['many']&neg_words['few'],final['positive'])\n",
        "rule6=ctrl.Rule(pos_words['few']&neg_words['many'],final['negative'])\n",
        "rule7=ctrl.Rule(pos_words['some']&neg_words['some'],final['neutral'])\n",
        "rule8=ctrl.Rule(score['negative']&neg_words['many']&emotion['high'],final['negative'])\n",
        "rule9=ctrl.Rule(score['neutral']&pos_words['some']&emotion['medium'],final['neutral'])\n",
        "rule10=ctrl.Rule(score['positive']&pos_words['many']&emotion['high'],final['positive'])"
      ],
      "metadata": {
        "id": "-VuXdCvKupAl"
      },
      "execution_count": 9,
      "outputs": []
    },
    {
      "cell_type": "code",
      "source": [
        "final_ctrl = ctrl.ControlSystem([rule1, rule2, rule3, rule4, rule5,rule6,rule7,rule8,rule9,rule10])\n",
        "final_sim = ctrl.ControlSystemSimulation(final_ctrl)\n",
        "\n",
        "final_sim.input['score'] = 1\n",
        "final_sim.input['emotion'] = 3\n",
        "final_sim.input['pos_words'] = 5\n",
        "final_sim.input['neg_words'] = 2\n",
        "\n",
        "final_sim.compute()\n",
        "print (final_sim.output['final'])"
      ],
      "metadata": {
        "id": "IOLUlRcZosHj"
      },
      "execution_count": null,
      "outputs": []
    }
  ]
}