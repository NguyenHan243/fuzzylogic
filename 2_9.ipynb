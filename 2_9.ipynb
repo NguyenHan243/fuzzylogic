{
  "nbformat": 4,
  "nbformat_minor": 0,
  "metadata": {
    "colab": {
      "provenance": [],
      "authorship_tag": "ABX9TyMOiMESp+aFSxM76L10kAtJ",
      "include_colab_link": true
    },
    "kernelspec": {
      "name": "python3",
      "display_name": "Python 3"
    },
    "language_info": {
      "name": "python"
    }
  },
  "cells": [
    {
      "cell_type": "markdown",
      "metadata": {
        "id": "view-in-github",
        "colab_type": "text"
      },
      "source": [
        "<a href=\"https://colab.research.google.com/github/NguyenHan243/fuzzylogic/blob/main/2_9.ipynb\" target=\"_parent\"><img src=\"https://colab.research.google.com/assets/colab-badge.svg\" alt=\"Open In Colab\"/></a>"
      ]
    },
    {
      "cell_type": "code",
      "execution_count": null,
      "metadata": {
        "colab": {
          "base_uri": "https://localhost:8080/"
        },
        "id": "skoXOBKfefkD",
        "outputId": "342530fa-2cca-40dd-f31e-4adfa6c176e6"
      },
      "outputs": [
        {
          "output_type": "stream",
          "name": "stdout",
          "text": [
            "Requirement already satisfied: scikit-fuzzy in /usr/local/lib/python3.11/dist-packages (0.5.0)\n"
          ]
        }
      ],
      "source": [
        "pip install scikit-fuzzy"
      ]
    },
    {
      "cell_type": "code",
      "source": [
        "import numpy as np\n",
        "import skfuzzy as fuzz\n",
        "from skfuzzy import control as ctrl\n",
        "score = ctrl.Antecedent(np.arange(0,1.1,0.1),'score')\n",
        "emotion = ctrl.Antecedent(np.arange(0,10.1,0.1),'emotion')\n",
        "pos_words= ctrl.Antecedent(np.arange(0,10.1,0.1),'pos-words')\n",
        "neg_words=ctrl.Antecedent(np.arange(0,10.1,0.1),'neg-words')\n",
        "review=ctrl.Consequent(np.arange(0,10.1,0.1),'review')\n",
        "\n",
        "score['negative']=fuzz.trimf(score.universe,[0,0.15,0.3])\n",
        "score['neutral']=fuzz.trimf(score.universe,[0.3,0.5,0.7])\n",
        "score['positive']=fuzz.trimf(score.universe,[0.7,0.85,1])\n",
        "\n",
        "emotion['low']=fuzz.trimf(emotion.universe,[0,0.2,0.4])\n",
        "emotion['medium']=fuzz.trimf(emotion.universe,[0.4,0.6,0.8])\n",
        "emotion['high']=fuzz.trimf(emotion.universe,[0.8,1,1])\n",
        "\n",
        "pos_words['few']=fuzz.trimf(pos_words.universe,[0,1,2])\n",
        "pos_words['some']=fuzz.trimf(pos_words.universe,[3,4,5])\n",
        "pos_words['many']=fuzz.trimf(pos_words.universe,[6,8,10])\n",
        "\n",
        "neg_words['few']=fuzz.trimf(neg_words.universe,[0,1,2])\n",
        "neg_words['some']=fuzz.trimf(neg_words.universe,[3,4,5])\n",
        "neg_words['many']=fuzz.trimf(neg_words.universe,[6,8,10])\n",
        "\n",
        "review['negative']=fuzz.trimf(review.universe,[0,2,4])\n",
        "review['neutral']=fuzz.trimf(review.universe,[4,5,6])\n",
        "review['positive']=fuzz.trimf(review.universe,[6,8,10])"
      ],
      "metadata": {
        "id": "wH0ZxbpDpLGs"
      },
      "execution_count": null,
      "outputs": []
    },
    {
      "cell_type": "code",
      "source": [
        "rule1=ctrl.Rule(score['negative']&emotion['high'],review['negative'])\n",
        "rule2=ctrl.Rule(score['negative']&emotion['low'],review['neutral'])\n",
        "rule3=ctrl.Rule(score['neutral']&emotion['medium'],review['neutral'])\n",
        "rule4=ctrl.Rule(score['positive']&emotion['high'],review['positive'])\n",
        "rule5=ctrl.Rule(pos_words['many']&neg_words['few'],review['positive'])\n",
        "rule6=ctrl.Rule(pos_words['few']&neg_words['many'],review['negative'])\n",
        "rule7=ctrl.Rule(pos_words['some']&neg_words['some'],review['neutral'])\n",
        "rule8=ctrl.Rule(score['negative']&neg_words['many']&emotion['high'],review['negative'])\n",
        "rule9=ctrl.Rule(score['neutral']&pos_words['some']&emotion['medium'],review['neutral'])\n",
        "rule10=ctrl.Rule(score['positive']&pos_words['many']&emotion['high'],review['positive'])"
      ],
      "metadata": {
        "id": "-VuXdCvKupAl"
      },
      "execution_count": null,
      "outputs": []
    }
  ]
}