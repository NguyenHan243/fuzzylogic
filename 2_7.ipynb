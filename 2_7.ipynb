{
  "nbformat": 4,
  "nbformat_minor": 0,
  "metadata": {
    "colab": {
      "provenance": [],
      "include_colab_link": true
    },
    "kernelspec": {
      "name": "python3",
      "display_name": "Python 3"
    },
    "language_info": {
      "name": "python"
    }
  },
  "cells": [
    {
      "cell_type": "markdown",
      "metadata": {
        "id": "view-in-github",
        "colab_type": "text"
      },
      "source": [
        "<a href=\"https://colab.research.google.com/github/NguyenHan243/fuzzylogic/blob/main/2_7.ipynb\" target=\"_parent\"><img src=\"https://colab.research.google.com/assets/colab-badge.svg\" alt=\"Open In Colab\"/></a>"
      ]
    },
    {
      "cell_type": "code",
      "source": [
        "pip install scikit-fuzzy"
      ],
      "metadata": {
        "colab": {
          "base_uri": "https://localhost:8080/"
        },
        "id": "QfxD_Dx0DDdY",
        "outputId": "775d19bd-ff3b-4362-a17a-9c4c1d38fb38"
      },
      "execution_count": null,
      "outputs": [
        {
          "output_type": "stream",
          "name": "stdout",
          "text": [
            "Collecting scikit-fuzzy\n",
            "  Downloading scikit_fuzzy-0.5.0-py2.py3-none-any.whl.metadata (2.6 kB)\n",
            "Downloading scikit_fuzzy-0.5.0-py2.py3-none-any.whl (920 kB)\n",
            "\u001b[?25l   \u001b[90m━━━━━━━━━━━━━━━━━━━━━━━━━━━━━━━━━━━━━━━━\u001b[0m \u001b[32m0.0/920.8 kB\u001b[0m \u001b[31m?\u001b[0m eta \u001b[36m-:--:--\u001b[0m\r\u001b[2K   \u001b[90m━━━━━━━━━━━━━━━━━━━━━━━━━━━━━━━━━━━━━━━━\u001b[0m \u001b[32m920.8/920.8 kB\u001b[0m \u001b[31m29.2 MB/s\u001b[0m eta \u001b[36m0:00:00\u001b[0m\n",
            "\u001b[?25hInstalling collected packages: scikit-fuzzy\n",
            "Successfully installed scikit-fuzzy-0.5.0\n"
          ]
        }
      ]
    },
    {
      "cell_type": "code",
      "execution_count": null,
      "metadata": {
        "id": "Yva7wX-tC_eF"
      },
      "outputs": [],
      "source": [
        "import numpy as np\n",
        "import skfuzzy as fuzz\n",
        "import skfuzzy.control as ctrl\n",
        "\n",
        "type = ctrl.Antecedent(np.arange(0, 3.1, 0.1), 'type')\n",
        "weight = ctrl.Antecedent(np.arange(0, 1001, 50), 'weight')\n",
        "temp = ctrl.Antecedent(np.arange(0, 61, 5), 'temp')\n",
        "water = ctrl.Antecedent(np.arange(0, 3.1, 0.1), 'water')\n",
        "cook_time = ctrl.Consequent(np.arange(0, 31, 1), 'cook_time')\n",
        "heat_level = ctrl.Consequent(np.arange(0, 101, 5), 'heat_level')\n",
        "\n",
        "type['S'] = fuzz.trimf(type.universe, [0, 0.3, 1])\n",
        "type['M'] = fuzz.trimf(type.universe, [0.8, 1.5, 2.2])\n",
        "type['H'] = fuzz.trimf(type.universe, [1.8, 2.7, 3])\n",
        "\n",
        "weight['L'] = fuzz.trimf(weight.universe, [0, 250, 500])\n",
        "weight['M'] = fuzz.trimf(weight.universe, [400, 600, 800])\n",
        "weight['H'] = fuzz.trimf(weight.universe, [700, 900, 1000])\n",
        "\n",
        "temp['C'] = fuzz.trimf(temp.universe, [0, 5, 10])\n",
        "temp['W'] = fuzz.trimf(temp.universe, [15, 25, 35])\n",
        "temp['H'] = fuzz.trimf(temp.universe, [40, 50, 60])\n",
        "\n",
        "water['L'] = fuzz.trimf(water.universe, [0, 0.4, 1])\n",
        "water['M'] = fuzz.trimf(water.universe, [0.8, 1.5, 2.3])\n",
        "water['H'] = fuzz.trimf(water.universe, [2, 2.6, 3])\n",
        "\n",
        "cook_time['S'] = fuzz.trimf(cook_time.universe, [0, 7, 15])\n",
        "cook_time['M'] = fuzz.trimf(cook_time.universe, [10, 20, 25])\n",
        "cook_time['L'] = fuzz.trimf(cook_time.universe, [20, 25, 30])\n",
        "\n",
        "heat_level['L'] = fuzz.trimf(heat_level.universe, [0, 20, 40])\n",
        "heat_level['M'] = fuzz.trimf(heat_level.universe, [30, 50, 70])\n",
        "heat_level['H'] = fuzz.trimf(heat_level.universe, [60, 80, 100])\n",
        "\n",
        "rule1 = ctrl.Rule(type['S'] & weight['L'] & temp['C'],\n",
        "                  (cook_time['S'], heat_level['M']))\n",
        "rule2 = ctrl.Rule(type['M'] & weight['M'] & temp['W'],\n",
        "                  (cook_time['M'], heat_level['M']))\n",
        "rule3 = ctrl.Rule(type['H'] & weight['H'] & temp['H'],\n",
        "                  (cook_time['L'], heat_level['H']))\n",
        "rule4 = ctrl.Rule(water['L'] & temp['C'],\n",
        "                  (cook_time['S'], heat_level['L']))\n",
        "rule5 = ctrl.Rule(water['H'] & weight['H'],\n",
        "                  (cook_time['L'], heat_level['H']))\n",
        "\n",
        "\n"
      ]
    },
    {
      "cell_type": "code",
      "source": [
        "cook_ctrl = ctrl.ControlSystem([rule1, rule2, rule3, rule4, rule5])\n",
        "cook_sim = ctrl.ControlSystemSimulation(cook_ctrl)\n",
        "cook_sim.input['type'] = 1\n",
        "cook_sim.input['weight'] = 500\n",
        "cook_sim.input['temp'] = 25\n",
        "cook_sim.input['water'] = 2\n",
        "cook_sim.compute()\n",
        "print(cook_sim.output['cook_time'])\n",
        "print(cook_sim.output['heat_level'])"
      ],
      "metadata": {
        "colab": {
          "base_uri": "https://localhost:8080/"
        },
        "id": "oFB2rnT6JRyX",
        "outputId": "28b881e6-f2fa-4bd1-e665-d808c25e44f4"
      },
      "execution_count": null,
      "outputs": [
        {
          "output_type": "stream",
          "name": "stdout",
          "text": [
            "17.83730158730159\n",
            "50.00000000000001\n"
          ]
        }
      ]
    }
  ]
}