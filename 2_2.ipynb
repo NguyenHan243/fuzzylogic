{
  "nbformat": 4,
  "nbformat_minor": 0,
  "metadata": {
    "colab": {
      "provenance": [],
      "include_colab_link": true
    },
    "kernelspec": {
      "name": "python3",
      "display_name": "Python 3"
    },
    "language_info": {
      "name": "python"
    }
  },
  "cells": [
    {
      "cell_type": "markdown",
      "metadata": {
        "id": "view-in-github",
        "colab_type": "text"
      },
      "source": [
        "<a href=\"https://colab.research.google.com/github/NguyenHan243/fuzzylogic/blob/main/2_2.ipynb\" target=\"_parent\"><img src=\"https://colab.research.google.com/assets/colab-badge.svg\" alt=\"Open In Colab\"/></a>"
      ]
    },
    {
      "cell_type": "code",
      "execution_count": 1,
      "metadata": {
        "colab": {
          "base_uri": "https://localhost:8080/"
        },
        "id": "1y1Eqw7BipQk",
        "outputId": "a1306972-4a61-444f-e231-4a390e8e25e2"
      },
      "outputs": [
        {
          "output_type": "stream",
          "name": "stdout",
          "text": [
            "Collecting scikit-fuzzy\n",
            "  Downloading scikit_fuzzy-0.5.0-py2.py3-none-any.whl.metadata (2.6 kB)\n",
            "Downloading scikit_fuzzy-0.5.0-py2.py3-none-any.whl (920 kB)\n",
            "\u001b[2K   \u001b[90m━━━━━━━━━━━━━━━━━━━━━━━━━━━━━━━━━━━━━━━━\u001b[0m \u001b[32m920.8/920.8 kB\u001b[0m \u001b[31m8.9 MB/s\u001b[0m eta \u001b[36m0:00:00\u001b[0m\n",
            "\u001b[?25hInstalling collected packages: scikit-fuzzy\n",
            "Successfully installed scikit-fuzzy-0.5.0\n"
          ]
        }
      ],
      "source": [
        "pip install scikit-fuzzy\n"
      ]
    },
    {
      "cell_type": "code",
      "source": [
        "import numpy as np\n",
        "import skfuzzy as fuzz\n",
        "from skfuzzy import control as ctrl\n",
        "sugar = ctrl.Antecedent(np.arange(60,220.1,0.1),'sugar')\n",
        "BMI = ctrl.Antecedent(np.arange(16,32.1,0.1),'BMI')\n",
        "Urination = ctrl.Antecedent(np.arange(3,15.1,0.1),'Urination')\n",
        "Fatigue = ctrl.Antecedent(np.arange(0,10.1,0.1),'Fatigue')\n",
        "risk= ctrl.Consequent(np.arange(0,10.1,0.1),'risk')\n",
        "\n",
        "sugar['low']=fuzz.gaussmf(sugar.universe,60,15)\n",
        "sugar['normal']=fuzz.gaussmf(sugar.universe,80,10)\n",
        "sugar['high']=fuzz.gaussmf(sugar.universe,120,20)\n",
        "sugar['very high']=fuzz.gaussmf(sugar.universe,200,40)\n",
        "\n",
        "BMI['low']=fuzz.gaussmf(BMI.universe,16,2)\n",
        "BMI['normal']=fuzz.gaussmf(BMI.universe,18.5,0.5)\n",
        "BMI['high']=fuzz.gaussmf(BMI.universe,24.9,5)\n",
        "BMI['very high']=fuzz.gaussmf(BMI.universe,29.9,2)\n",
        "\n",
        "Urination['rare']=fuzz.gaussmf(Urination.universe,3,5)\n",
        "Urination['sometimes']=fuzz.gaussmf(Urination.universe,8,3)\n",
        "Urination['often']=fuzz.gaussmf(Urination.universe,15,7)\n",
        "\n",
        "Fatigue['low']=fuzz.trimf(Fatigue.universe,[0,0,5])\n",
        "Fatigue['medium']=fuzz.trimf(Fatigue.universe,[0,5,10])\n",
        "Fatigue['high']=fuzz.trimf(Fatigue.universe,[5,10,10])\n",
        "\n",
        "\n",
        "risk['low risk']=fuzz.trimf(risk.universe,[0,0,2.5])\n",
        "risk['normal risk']=fuzz.trimf(risk.universe,[0,2.5,5])\n",
        "risk['high risk']=fuzz.trimf(risk.universe,[2.5,5,7.5])\n",
        "risk['very high risk']=fuzz.trapmf(risk.universe,[5,7.5,10,10])\n",
        "\n"
      ],
      "metadata": {
        "id": "m_D3jxeV_PGk"
      },
      "execution_count": 2,
      "outputs": []
    },
    {
      "cell_type": "code",
      "source": [
        "rule1=ctrl.Rule(sugar['very high']&Urination['often'],risk['very high risk'])\n",
        "rule2=ctrl.Rule(sugar['very high']&Urination['sometimes'],risk['high risk'])\n",
        "rule3=ctrl.Rule(sugar['high']&Urination['often'],risk['high risk'])\n",
        "rule4=ctrl.Rule(sugar['normal']&Urination['rare'],risk['low risk'])\n",
        "\n",
        "rule5=ctrl.Rule(sugar['very high']&BMI['very high'],risk['very high risk'])\n",
        "rule6=ctrl.Rule(sugar['very high']&BMI['high'],risk['high risk'])\n",
        "rule7=ctrl.Rule(sugar['high']&BMI['high'],risk['high risk'])\n",
        "rule8=ctrl.Rule(sugar['normal']&BMI['high'],risk['normal risk'])\n",
        "rule9=ctrl.Rule(sugar['normal']&BMI['normal'],risk['normal risk'])\n",
        "\n",
        "rule10=ctrl.Rule(sugar['very high']&Fatigue['high'],risk['very high risk'])\n",
        "rule11=ctrl.Rule(sugar['high']&Fatigue['high'],risk['high risk'])\n",
        "rule12=ctrl.Rule(sugar['high']&Fatigue['medium'],risk['normal risk'])\n",
        "rule13=ctrl.Rule(sugar['normal']&Fatigue['low'],risk['low risk'])\n",
        "\n"
      ],
      "metadata": {
        "id": "QykqfqK-dDoI"
      },
      "execution_count": 4,
      "outputs": []
    },
    {
      "cell_type": "code",
      "source": [
        "risk_ctrl = ctrl.ControlSystem([rule1, rule2, rule3, rule4, rule5,rule6,rule7,rule8,rule9,rule10,rule11,rule12,rule13])\n",
        "risk_sim = ctrl.ControlSystemSimulation(risk_ctrl)\n",
        "\n",
        "risk_sim.input['sugar'] = 180\n",
        "risk_sim.input['BMI'] = 23\n",
        "risk_sim.input['Urination'] = 11\n",
        "risk_sim.input['Fatigue'] = 5\n",
        "\n",
        "risk_sim.compute()\n",
        "print (risk_sim.output['risk'])\n"
      ],
      "metadata": {
        "colab": {
          "base_uri": "https://localhost:8080/"
        },
        "id": "ZoPk28-la1if",
        "outputId": "b25bd5d2-b9fc-40a8-d076-0439cd294109"
      },
      "execution_count": 5,
      "outputs": [
        {
          "output_type": "stream",
          "name": "stdout",
          "text": [
            "6.743921969901213\n"
          ]
        }
      ]
    }
  ]
}