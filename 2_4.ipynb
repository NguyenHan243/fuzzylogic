{
  "nbformat": 4,
  "nbformat_minor": 0,
  "metadata": {
    "colab": {
      "provenance": [],
      "include_colab_link": true
    },
    "kernelspec": {
      "name": "python3",
      "display_name": "Python 3"
    },
    "language_info": {
      "name": "python"
    }
  },
  "cells": [
    {
      "cell_type": "markdown",
      "metadata": {
        "id": "view-in-github",
        "colab_type": "text"
      },
      "source": [
        "<a href=\"https://colab.research.google.com/github/NguyenHan243/fuzzylogic/blob/main/2_4.ipynb\" target=\"_parent\"><img src=\"https://colab.research.google.com/assets/colab-badge.svg\" alt=\"Open In Colab\"/></a>"
      ]
    },
    {
      "cell_type": "code",
      "execution_count": 1,
      "metadata": {
        "id": "7NDN240SeYKf",
        "colab": {
          "base_uri": "https://localhost:8080/"
        },
        "outputId": "e60a4f0e-6856-4652-cbaa-a8a3c53f793d"
      },
      "outputs": [
        {
          "output_type": "stream",
          "name": "stdout",
          "text": [
            "Collecting scikit-fuzzy\n",
            "  Downloading scikit_fuzzy-0.5.0-py2.py3-none-any.whl.metadata (2.6 kB)\n",
            "Downloading scikit_fuzzy-0.5.0-py2.py3-none-any.whl (920 kB)\n",
            "\u001b[?25l   \u001b[90m━━━━━━━━━━━━━━━━━━━━━━━━━━━━━━━━━━━━━━━━\u001b[0m \u001b[32m0.0/920.8 kB\u001b[0m \u001b[31m?\u001b[0m eta \u001b[36m-:--:--\u001b[0m\r\u001b[2K   \u001b[91m━━━━━━━━━━━━━━━━━━━━━━━━━━━━━━━━━━━━━━━\u001b[0m\u001b[91m╸\u001b[0m \u001b[32m911.4/920.8 kB\u001b[0m \u001b[31m53.1 MB/s\u001b[0m eta \u001b[36m0:00:01\u001b[0m\r\u001b[2K   \u001b[90m━━━━━━━━━━━━━━━━━━━━━━━━━━━━━━━━━━━━━━━━\u001b[0m \u001b[32m920.8/920.8 kB\u001b[0m \u001b[31m20.8 MB/s\u001b[0m eta \u001b[36m0:00:00\u001b[0m\n",
            "\u001b[?25hInstalling collected packages: scikit-fuzzy\n",
            "Successfully installed scikit-fuzzy-0.5.0\n"
          ]
        }
      ],
      "source": [
        "pip install scikit-fuzzy"
      ]
    },
    {
      "cell_type": "code",
      "source": [
        "import numpy as np\n",
        "import skfuzzy as fuzz\n",
        "from skfuzzy import control as ctrl\n",
        "load=ctrl.Antecedent(np.arange(1,500.1,0.1),'load')\n",
        "dirt=ctrl.Antecedent(np.arange(8,15.1,0.1),'dirt')\n",
        "fabric=ctrl.Antecedent(np.arange(50,500.1,0.1),'fabric')\n",
        "time=ctrl.Consequent(np.arange(0,5000.1,0.1),'time')\n",
        "water=ctrl.Consequent(np.arange(5,20.1,0.1),'water')\n",
        "\n",
        "\n",
        "load['s']=fuzz.gaussmf(load.universe,50,49)\n",
        "load['m']=fuzz.gaussmf(load.universe,200,150)\n",
        "load['h']=fuzz.gaussmf(load.universe,500,300)\n",
        "\n",
        "dirt['l']=fuzz.gaussmf(dirt.universe,10,2)\n",
        "dirt['m']=fuzz.gaussmf(dirt.universe,15,5)\n",
        "dirt['h']=fuzz.gaussmf(dirt.universe,20,5)\n",
        "\n",
        "fabric['d']=fuzz.gaussmf(fabric.universe,150,100)\n",
        "fabric['n']=fuzz.gaussmf(fabric.universe,350,200)\n",
        "fabric['h']=fuzz.gaussmf(fabric.universe,500,150)\n",
        "\n",
        "time['s']=fuzz.gaussmf(time.universe,1000,1000)\n",
        "time['m']=fuzz.gaussmf(time.universe,2000,1000)\n",
        "time['l']=fuzz.gaussmf(time.universe,5000,3000)\n",
        "\n",
        "water['l']=fuzz.gaussmf(water.universe,11.5,6)\n",
        "water['m']=fuzz.gaussmf(water.universe,13.5,2)\n",
        "water['h']=fuzz.gaussmf(water.universe,15,1.5)\n"
      ],
      "metadata": {
        "id": "98aM9Xy-Iov8"
      },
      "execution_count": 2,
      "outputs": []
    },
    {
      "cell_type": "code",
      "source": [
        "rule1=ctrl.Rule(load['s']&dirt['l'],time['s'],water['l'])\n",
        "rule2=ctrl.Rule(load['s']&dirt['m'],time['m'],water['m'])\n",
        "rule3=ctrl.Rule(load['s']&dirt['h'],time['l'],water['m'])\n",
        "\n",
        "rule4=ctrl.Rule(load['m']&dirt['l'],time['m'],water['m'])\n",
        "rule5=ctrl.Rule(load['m']&dirt['m'],time['l'],water['m'])\n",
        "rule6=ctrl.Rule(load['m']&dirt['h'],time['l'],water['h'])\n",
        "\n",
        "rule7=ctrl.Rule(load['h']&dirt['l'],time['m'],water['h'])\n",
        "rule8=ctrl.Rule(load['h']&dirt['m'],time['l'],water['h'])\n",
        "rule9=ctrl.Rule(load['h']&dirt['h'],time['l'],water['h'])\n",
        "\n",
        "rule10=ctrl.Rule(fabric['d'],time['s'],water['l'])\n",
        "#rule11=ctrl.Rule(fabric['n'],time['m'],water['m'])\n",
        "rule12=ctrl.Rule(fabric['h'],time['l'],water['h'])\n",
        "\n",
        "rule13=ctrl.Rule(load['h']&dirt['h']&fabric['h'],time['l'],water['h'])\n",
        "rule14=ctrl.Rule(load['s']&dirt['l']&fabric['d'],time['s'],water['l'])\n",
        "rule15=ctrl.Rule(load['m']&dirt['m']&fabric['n'],time['m'],water['m'])\n"
      ],
      "metadata": {
        "id": "0-dGb96Eek33"
      },
      "execution_count": 12,
      "outputs": []
    },
    {
      "cell_type": "code",
      "source": [
        "final_ctrl = ctrl.ControlSystem([rule1, rule2, rule3, rule4, rule5,rule6,rule7,rule8,rule9,rule10,rule11,rule12,rule13,rule14,rule15])\n",
        "final_sim = ctrl.ControlSystemSimulation(final_ctrl)\n",
        "\n",
        "final_sim.input['load'] = 100\n",
        "final_sim.input['dirt'] = 10\n",
        "final_sim.input['fabric'] = 480\n",
        "\n",
        "final_sim.compute()\n",
        "print (final_sim.output['time'])\n",
        "print (final_sim.output['water'])\n"
      ],
      "metadata": {
        "id": "Z5ZYt6n1mIvP"
      },
      "execution_count": null,
      "outputs": []
    }
  ]
}