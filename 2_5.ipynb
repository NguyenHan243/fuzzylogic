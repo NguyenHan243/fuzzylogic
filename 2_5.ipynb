{
  "nbformat": 4,
  "nbformat_minor": 0,
  "metadata": {
    "colab": {
      "provenance": [],
      "include_colab_link": true
    },
    "kernelspec": {
      "name": "python3",
      "display_name": "Python 3"
    },
    "language_info": {
      "name": "python"
    }
  },
  "cells": [
    {
      "cell_type": "markdown",
      "metadata": {
        "id": "view-in-github",
        "colab_type": "text"
      },
      "source": [
        "<a href=\"https://colab.research.google.com/github/NguyenHan243/fuzzylogic/blob/main/2_5.ipynb\" target=\"_parent\"><img src=\"https://colab.research.google.com/assets/colab-badge.svg\" alt=\"Open In Colab\"/></a>"
      ]
    },
    {
      "cell_type": "code",
      "source": [
        "pip install scikit-fuzzy"
      ],
      "metadata": {
        "colab": {
          "base_uri": "https://localhost:8080/"
        },
        "id": "kvsV6ORDAo7w",
        "outputId": "bf893817-c222-495d-d3b8-c98be0b2ed92"
      },
      "execution_count": 1,
      "outputs": [
        {
          "output_type": "stream",
          "name": "stdout",
          "text": [
            "Collecting scikit-fuzzy\n",
            "  Downloading scikit_fuzzy-0.5.0-py2.py3-none-any.whl.metadata (2.6 kB)\n",
            "Downloading scikit_fuzzy-0.5.0-py2.py3-none-any.whl (920 kB)\n",
            "\u001b[2K   \u001b[90m━━━━━━━━━━━━━━━━━━━━━━━━━━━━━━━━━━━━━━━━\u001b[0m \u001b[32m920.8/920.8 kB\u001b[0m \u001b[31m9.3 MB/s\u001b[0m eta \u001b[36m0:00:00\u001b[0m\n",
            "\u001b[?25hInstalling collected packages: scikit-fuzzy\n",
            "Successfully installed scikit-fuzzy-0.5.0\n"
          ]
        }
      ]
    },
    {
      "cell_type": "code",
      "execution_count": 2,
      "metadata": {
        "colab": {
          "base_uri": "https://localhost:8080/"
        },
        "id": "ogNoY_isAhms",
        "outputId": "1c159511-c6a3-4b7f-88e3-033929090e67"
      },
      "outputs": [
        {
          "output_type": "stream",
          "name": "stdout",
          "text": [
            "Fan speed: 886.8701853882405\n",
            "cool level: 50.0\n"
          ]
        }
      ],
      "source": [
        "\n",
        "import numpy as np\n",
        "import skfuzzy as fuzz\n",
        "from skfuzzy import control as ctrl\n",
        "\n",
        "temp = ctrl.Antecedent(np.arange(16, 32, 1),'temp')\n",
        "hum = ctrl.Antecedent(np.arange(40, 61, 1),'hum')\n",
        "people = ctrl.Antecedent(np.arange(1, 11, 1),'people')\n",
        "fan = ctrl.Consequent(np.arange(740, 1251, 10),'fan')\n",
        "cool = ctrl.Consequent(np.arange(0, 101, 5),'cool')\n",
        "\n",
        "temp['C'] = fuzz.trimf(temp.universe, [16, 16, 19])\n",
        "temp['CL'] = fuzz.trimf(temp.universe, [18, 20, 22])\n",
        "temp['CM'] = fuzz.trimf(temp.universe, [21, 23, 25])\n",
        "temp['W'] = fuzz.trimf(temp.universe, [24, 26, 28])\n",
        "temp['H'] = fuzz.trimf(temp.universe, [27, 30, 32])\n",
        "\n",
        "hum['L'] = fuzz.trapmf(hum.universe, [40, 40, 42, 45])\n",
        "hum['M'] = fuzz.trapmf(hum.universe, [43, 45, 50, 52])\n",
        "hum['H'] = fuzz.trapmf(hum.universe, [50, 55, 60, 60])\n",
        "\n",
        "people['F'] = fuzz.gaussmf(people.universe, 2.5, 1)\n",
        "people['M'] = fuzz.gaussmf(people.universe, 5, 1.5)\n",
        "people['MA'] = fuzz.gaussmf(people.universe, 8, 1.5)\n",
        "\n",
        "fan['L'] = fuzz.trapmf(fan.universe, [740, 740, 800, 880])\n",
        "fan['M'] = fuzz.trapmf(fan.universe, [860, 900, 980, 1050])\n",
        "fan['H'] = fuzz.trapmf(fan.universe, [1020, 1100, 1250, 1250])\n",
        "\n",
        "cool['L'] = fuzz.trimf(cool.universe, [0, 10, 40])\n",
        "cool['M'] = fuzz.trimf(cool.universe, [30, 50, 70])\n",
        "cool['H'] = fuzz.trimf(cool.universe, [60, 80, 100])"
      ]
    },
    {
      "cell_type": "code",
      "source": [
        "rule1 = ctrl.Rule(temp['C'], fan['L'])\n",
        "rule2 = ctrl.Rule(temp['CL'], fan['L'])\n",
        "rule3 = ctrl.Rule(temp['CM'], fan['M'])\n",
        "rule4 = ctrl.Rule(temp['W'], fan['H'])\n",
        "rule5 = ctrl.Rule(temp['H'], fan['H'])\n",
        "rule6 = ctrl.Rule(temp['C'], cool['L'])\n",
        "rule7 = ctrl.Rule(temp['CL'], cool['L'])\n",
        "rule8 = ctrl.Rule(temp['CM'], cool['M'])\n",
        "rule9 = ctrl.Rule(temp['W'], cool['H'])\n",
        "rule10 = ctrl.Rule(temp['H'], cool['H'])\n",
        "rule11 = ctrl.Rule(hum['L'], cool['L'])\n",
        "rule12 = ctrl.Rule(hum['M'], cool['M'])\n",
        "rule13 = ctrl.Rule(hum['H'], cool['H'])\n",
        "rule14 = ctrl.Rule(people['F'], fan['L'])\n",
        "rule15 = ctrl.Rule(people['M'], fan['M'])\n",
        "rule16 = ctrl.Rule(people['MA'], fan['H'])\n",
        "rule17 = ctrl.Rule(temp['H'] & hum['H'] & people['MA'], [cool['H'], fan['H']])\n",
        "rule18 = ctrl.Rule(temp['CM'] & hum['M'] & people['M'], [cool['M'], fan['M']])\n",
        "rule19 = ctrl.Rule(temp['CL'] & hum['L'] & people['F'], [cool['L'], fan['L']])"
      ],
      "metadata": {
        "id": "hlUn3aaDL4us"
      },
      "execution_count": null,
      "outputs": []
    },
    {
      "cell_type": "code",
      "source": [
        "AC_ctrl = ctrl.ControlSystem([rule1, rule2, rule3, rule4, rule5, rule6, rule7, rule8, rule9, rule10, rule11,rule12, rule13, rule14, rule15, rule16, rule17, rule18, rule19])\n",
        "AC_sim = ctrl.ControlSystemSimulation(AC_ctrl)\n",
        "AC_sim.input['temp'] = 23\n",
        "AC_sim.input['hum'] = 48\n",
        "AC_sim.input['people'] = 3\n",
        "AC_sim.compute()\n",
        "print(\"Fan speed:\", AC_sim.output['fan'])\n",
        "print(\"cool level:\", AC_sim.output['cool'])"
      ],
      "metadata": {
        "id": "yYBE2DkoL5--"
      },
      "execution_count": null,
      "outputs": []
    }
  ]
}