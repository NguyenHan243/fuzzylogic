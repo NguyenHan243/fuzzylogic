{
  "nbformat": 4,
  "nbformat_minor": 0,
  "metadata": {
    "colab": {
      "provenance": [],
      "include_colab_link": true
    },
    "kernelspec": {
      "name": "python3",
      "display_name": "Python 3"
    },
    "language_info": {
      "name": "python"
    }
  },
  "cells": [
    {
      "cell_type": "markdown",
      "metadata": {
        "id": "view-in-github",
        "colab_type": "text"
      },
      "source": [
        "<a href=\"https://colab.research.google.com/github/NguyenHan243/fuzzylogic/blob/main/2_3.ipynb\" target=\"_parent\"><img src=\"https://colab.research.google.com/assets/colab-badge.svg\" alt=\"Open In Colab\"/></a>"
      ]
    },
    {
      "cell_type": "code",
      "source": [
        "pip install scikit-fuzzy"
      ],
      "metadata": {
        "colab": {
          "base_uri": "https://localhost:8080/"
        },
        "id": "5OIEvgTPQdTk",
        "outputId": "5f588056-69fd-4b11-eda2-f2f5d2522eb1"
      },
      "execution_count": 1,
      "outputs": [
        {
          "output_type": "stream",
          "name": "stdout",
          "text": [
            "Collecting scikit-fuzzy\n",
            "  Downloading scikit_fuzzy-0.5.0-py2.py3-none-any.whl.metadata (2.6 kB)\n",
            "Downloading scikit_fuzzy-0.5.0-py2.py3-none-any.whl (920 kB)\n",
            "\u001b[2K   \u001b[90m━━━━━━━━━━━━━━━━━━━━━━━━━━━━━━━━━━━━━━━━\u001b[0m \u001b[32m920.8/920.8 kB\u001b[0m \u001b[31m9.5 MB/s\u001b[0m eta \u001b[36m0:00:00\u001b[0m\n",
            "\u001b[?25hInstalling collected packages: scikit-fuzzy\n",
            "Successfully installed scikit-fuzzy-0.5.0\n"
          ]
        }
      ]
    },
    {
      "cell_type": "code",
      "source": [
        "import numpy as np\n",
        "import skfuzzy as fuzz\n",
        "from skfuzzy import control as ctrl\n",
        "\n",
        "demand=ctrl.Antecedent(np.arange(1,500.1,0.1),'demand')\n",
        "competitor=ctrl.Antecedent(np.arange(5,15.1,0.1),'competitor')\n",
        "production=ctrl.Antecedent(np.arange(50,500.1,0.1),'production')\n",
        "seasonality=ctrl.Antecedent(np.arange(1,12.1,0.1),'seasonality')\n",
        "stock=ctrl.Antecedent(np.arange(0,5000.1,0.1),'stock')\n",
        "final=ctrl.Consequent(np.arange(5,20.1,0.1),'final')\n",
        "\n",
        "demand['low']=fuzz.gaussmf(demand.universe,50,49)\n",
        "demand['medium']=fuzz.gaussmf(demand.universe,200,150)\n",
        "demand['high']=fuzz.gaussmf(demand.universe,500,300)\n",
        "\n",
        "competitor['very low']=fuzz.gaussmf(competitor.universe,8,3)\n",
        "competitor['low']=fuzz.gaussmf(competitor.universe,10,2)\n",
        "competitor['medium']=fuzz.gaussmf(competitor.universe,15,5)\n",
        "competitor['high']=fuzz.gaussmf(competitor.universe,20,5)\n",
        "\n",
        "production['low']=fuzz.gaussmf(production.universe,150,100)\n",
        "production['medium']=fuzz.gaussmf(production.universe,500,350)\n",
        "production['high']=fuzz.gaussmf(production.universe,1000,500)\n",
        "\n",
        "seasonality['low']=fuzz.trimf(seasonality.universe,[1,6,6])\n",
        "seasonality['normal']=fuzz.trimf(seasonality.universe,[6,6,8])\n",
        "seasonality['high']=fuzz.trimf(seasonality.universe,[6,8,12])\n",
        "\n",
        "stock['low']=fuzz.gaussmf(stock.universe,1000,1000)\n",
        "stock['medium']=fuzz.gaussmf(stock.universe,2000,1000)\n",
        "stock['high']=fuzz.gaussmf(stock.universe,3500,1500)\n",
        "stock['very high']=fuzz.gaussmf(stock.universe,5000,1500)\n",
        "\n",
        "final['very low']=fuzz.gaussmf(final.universe,5.5,0.5)\n",
        "final['low']=fuzz.gaussmf(final.universe,11.5,6)\n",
        "final['medium']=fuzz.gaussmf(final.universe,13.5,2)\n",
        "final['high']=fuzz.gaussmf(final.universe,15,1.5)\n",
        "final['very high']=fuzz.gaussmf(final.universe,20,5)\n"
      ],
      "metadata": {
        "id": "87212GnYQI2Q"
      },
      "execution_count": 4,
      "outputs": []
    },
    {
      "cell_type": "code",
      "source": [
        "rule1=ctrl.Rule(demand['high']&competitor['high']&stock['low'],final['very high'])\n",
        "rule2=ctrl.Rule(demand['high']&seasonality['high']&stock['low'],final['very high'])\n",
        "rule3=ctrl.Rule(demand['medium']&production['high']&stock['low'],final['very high'])\n",
        "\n",
        "rule4=ctrl.Rule(demand['high']&competitor['medium']&stock['medium'],final['high'])\n",
        "rule5=ctrl.Rule(demand['medium']&competitor['high']&stock['low'],final['high'])\n",
        "rule6=ctrl.Rule(demand['high']&seasonality['high']&stock['medium'],final['high'])\n",
        "\n",
        "rule7=ctrl.Rule(demand['medium']&competitor['medium']&stock['medium'],final['medium'])\n",
        "rule8=ctrl.Rule(demand['low']&competitor['high']&stock['medium'],final['medium'])\n",
        "rule9=ctrl.Rule(demand['medium']&production['medium']&stock['medium'],final['medium'])\n",
        "\n",
        "rule10=ctrl.Rule(demand['low']&competitor['low']&stock['high'],final['low'])\n",
        "rule11=ctrl.Rule(demand['medium']&production['low']&stock['high'],final['low'])\n",
        "rule12=ctrl.Rule(demand['low']&seasonality['low']&stock['high'],final['low'])\n",
        "\n",
        "rule13=ctrl.Rule(demand['low']&competitor['low']&stock['very high'],final['very low'])\n",
        "rule14=ctrl.Rule(demand['low']&seasonality['low']&stock['very high'],final['very low'])\n",
        "rule15=ctrl.Rule(demand['medium']&competitor['very low']&stock['very high'],final['very low'])"
      ],
      "metadata": {
        "id": "R4Xi7rK6dt94"
      },
      "execution_count": 5,
      "outputs": []
    },
    {
      "cell_type": "code",
      "source": [
        "final_ctrl = ctrl.ControlSystem([rule1, rule2, rule3, rule4, rule5,rule6,rule7,rule8,rule9,rule10,rule11,rule12,rule13,rule14,rule15])\n",
        "final_sim = ctrl.ControlSystemSimulation(final_ctrl)\n",
        "\n",
        "final_sim.input['demand'] = 450\n",
        "final_sim.input['competitor'] = 10\n",
        "final_sim.input['production'] = 450\n",
        "final_sim.input['seasonality'] = 8\n",
        "final_sim.input['stock'] = 1000\n",
        "\n",
        "final_sim.compute()\n",
        "print (final_sim.output['final'])\n"
      ],
      "metadata": {
        "colab": {
          "base_uri": "https://localhost:8080/"
        },
        "id": "ltxB4SNRcnUc",
        "outputId": "498dae5a-90e7-4661-bfde-6ad87c958e1d"
      },
      "execution_count": 6,
      "outputs": [
        {
          "output_type": "stream",
          "name": "stdout",
          "text": [
            "15.838126616354579\n"
          ]
        }
      ]
    },
    {
      "cell_type": "code",
      "source": [],
      "metadata": {
        "id": "pJAW87SRcm9V"
      },
      "execution_count": null,
      "outputs": []
    }
  ]
}